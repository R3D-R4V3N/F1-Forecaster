{
 "cells": [
  {
   "cell_type": "markdown",
   "metadata": {},
   "source": [
    "# F1 Prediction Notebook\n",
    "\n",
    "This notebook demonstrates training the prediction model using multiple seasons of F1 data and predicting results for a selected race."
   ]
  },
  {
   "cell_type": "code",
   "execution_count": null,
   "metadata": {},
   "outputs": [],
   "source": [
    "from dotenv import load_dotenv\n",
    "import yaml\n",
    "import pandas as pd\n",
    "from predictor.model import load_training_data, train_model, predict_race, _constructor_points_for_year\n",
    "\n",
    "load_dotenv()\n",
    "\n",
    "with open('races.yaml') as f:\n",
    "    races = yaml.safe_load(f)\n",
    "\n",
    "race_cfg = races['chinese_gp']\n",
    "train_years = [2022, 2023, 2024]"
   ]
  },
  {
   "cell_type": "code",
   "execution_count": null,
   "metadata": {},
   "outputs": [],
   "source": [
    "features, target, sector_times = load_training_data(train_years, race_cfg['grand_prix'])\n",
    "model, mae = train_model(features, target)\n",
    "qualifying = pd.DataFrame(race_cfg['qualifying'])\n",
    "constructor_points = _constructor_points_for_year(train_years[-1])\n",
    "result = predict_race(model, sector_times, qualifying, constructor_points)\n",
    "result"
   ]
  },
  {
   "cell_type": "code",
   "execution_count": null,
   "metadata": {},
   "outputs": [],
   "source": [
    "print(f'Model MAE: {mae:.2f} seconds')"
   ]
  }
 ],
 "metadata": {
  "kernelspec": {
   "display_name": "Python 3",
   "language": "python",
   "name": "python3"
  },
  "language_info": {
   "name": "python",
   "pygments_lexer": "ipython3"
  }
 },
 "nbformat": 4,
 "nbformat_minor": 5
}
